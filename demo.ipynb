{
 "cells": [
  {
   "cell_type": "code",
   "execution_count": 1,
   "metadata": {},
   "outputs": [],
   "source": [
    "import ml4chem\n",
    "import mdtraj\n",
    "import os\n",
    "from data_proc import get_molecules, get_trajectory"
   ]
  },
  {
   "cell_type": "code",
   "execution_count": 2,
   "metadata": {},
   "outputs": [
    {
     "name": "stdout",
     "output_type": "stream",
     "text": [
      "['Imidazole', 'K2SO4', 'Pyridine', 'Pyrrole', 'EDTA', 'Caffeine', 'CaCl2', 'AlSO4', 'extract_data.sh', 'MgCl2', 'Pyrimidine', 'NaAlO2', 'HCl', 'NaCl', 'NaOH', 'FeSO4', 'NH3', 'Nicotine', 'MgSO4', 'Et3N', 'KCl', 'Na2SO4', 'CaSO4']\n",
      "DFT_results/Imidazole/Imidazole_DFT_topology.pdb\n",
      "<mdtraj.Trajectory with 1 frames, 9 atoms, 1 residues, without unitcells>\n",
      "DFT_results/K2SO4/K2SO4_DFT_topology.pdb\n",
      "<mdtraj.Trajectory with 1 frames, 7 atoms, 3 residues, without unitcells>\n",
      "DFT_results/Pyridine/Pyridine_DFT_topology.pdb\n",
      "<mdtraj.Trajectory with 1 frames, 11 atoms, 1 residues, without unitcells>\n",
      "DFT_results/Pyrrole/Pyrrole_DFT_topology.pdb\n",
      "<mdtraj.Trajectory with 1 frames, 10 atoms, 1 residues, without unitcells>\n",
      "DFT_results/EDTA/EDTA_DFT_topology.pdb\n",
      "<mdtraj.Trajectory with 1 frames, 36 atoms, 1 residues, without unitcells>\n",
      "DFT_results/Caffeine/Caffeine_DFT_topology.pdb\n",
      "<mdtraj.Trajectory with 1 frames, 24 atoms, 1 residues, without unitcells>\n",
      "DFT_results/CaCl2/CaCl2_DFT_topology.pdb\n",
      "<mdtraj.Trajectory with 1 frames, 3 atoms, 3 residues, without unitcells>\n",
      "DFT_results/AlSO4/AlSO4_DFT_topology.pdb\n",
      "<mdtraj.Trajectory with 1 frames, 23 atoms, 6 residues, without unitcells>\n",
      "DFT_results/extract_data.sh/extract_data.sh_DFT_topology.pdb\n"
     ]
    },
    {
     "ename": "OSError",
     "evalue": "No such file: DFT_results/extract_data.sh/extract_data.sh_DFT_topology.pdb",
     "output_type": "error",
     "traceback": [
      "\u001b[0;31m---------------------------------------------------------------------------\u001b[0m",
      "\u001b[0;31mOSError\u001b[0m                                   Traceback (most recent call last)",
      "Cell \u001b[0;32mIn[2], line 9\u001b[0m\n\u001b[1;32m      6\u001b[0m \u001b[39mprint\u001b[39m(molecules)\n\u001b[1;32m      8\u001b[0m \u001b[39mfor\u001b[39;00m mol \u001b[39min\u001b[39;00m molecules:\n\u001b[0;32m----> 9\u001b[0m     \u001b[39mprint\u001b[39m(get_trajectory(mol))\n",
      "File \u001b[0;32m~/Documents/Homework/Spring 24/awr-urop/data_proc.py:28\u001b[0m, in \u001b[0;36mget_trajectory\u001b[0;34m(mol)\u001b[0m\n\u001b[1;32m     26\u001b[0m file_path \u001b[39m=\u001b[39m os\u001b[39m.\u001b[39mpath\u001b[39m.\u001b[39mjoin(dft_path, \u001b[39mf\u001b[39m\u001b[39m'\u001b[39m\u001b[39m{\u001b[39;00mmol\u001b[39m}\u001b[39;00m\u001b[39m/\u001b[39m\u001b[39m{\u001b[39;00mmol\u001b[39m}\u001b[39;00m\u001b[39m_DFT_topology.pdb\u001b[39m\u001b[39m'\u001b[39m)\n\u001b[1;32m     27\u001b[0m \u001b[39mprint\u001b[39m(file_path)\n\u001b[0;32m---> 28\u001b[0m \u001b[39mreturn\u001b[39;00m mdtraj\u001b[39m.\u001b[39;49mload(file_path)\n",
      "File \u001b[0;32m~/miniconda3/lib/python3.11/site-packages/mdtraj/core/trajectory.py:396\u001b[0m, in \u001b[0;36mload\u001b[0;34m(filename_or_filenames, discard_overlapping_frames, **kwargs)\u001b[0m\n\u001b[1;32m    394\u001b[0m topkwargs\u001b[39m.\u001b[39mpop(\u001b[39m\"\u001b[39m\u001b[39mstride\u001b[39m\u001b[39m\"\u001b[39m, \u001b[39mNone\u001b[39;00m)\n\u001b[1;32m    395\u001b[0m topkwargs\u001b[39m.\u001b[39mpop(\u001b[39m\"\u001b[39m\u001b[39mstart\u001b[39m\u001b[39m\"\u001b[39m, \u001b[39mNone\u001b[39;00m)\n\u001b[0;32m--> 396\u001b[0m kwargs[\u001b[39m\"\u001b[39m\u001b[39mtop\u001b[39m\u001b[39m\"\u001b[39m] \u001b[39m=\u001b[39m _parse_topology(kwargs\u001b[39m.\u001b[39;49mget(\u001b[39m\"\u001b[39;49m\u001b[39mtop\u001b[39;49m\u001b[39m\"\u001b[39;49m, filename_or_filenames[\u001b[39m0\u001b[39;49m]), \u001b[39m*\u001b[39;49m\u001b[39m*\u001b[39;49mtopkwargs)\n\u001b[1;32m    398\u001b[0m \u001b[39m#get the right loader\u001b[39;00m\n\u001b[1;32m    399\u001b[0m \u001b[39mtry\u001b[39;00m:\n\u001b[1;32m    400\u001b[0m     \u001b[39m#loader = _LoaderRegistry[extension][0]\u001b[39;00m\n",
      "File \u001b[0;32m~/miniconda3/lib/python3.11/site-packages/mdtraj/core/trajectory.py:174\u001b[0m, in \u001b[0;36m_parse_topology\u001b[0;34m(top, **kwargs)\u001b[0m\n\u001b[1;32m    172\u001b[0m     topology \u001b[39m=\u001b[39m top\u001b[39m.\u001b[39mtopology\n\u001b[1;32m    173\u001b[0m \u001b[39melif\u001b[39;00m \u001b[39misinstance\u001b[39m(top, (string_types, os\u001b[39m.\u001b[39mPathLike)) \u001b[39mand\u001b[39;00m (ext \u001b[39min\u001b[39;00m [\u001b[39m'\u001b[39m\u001b[39m.pdb\u001b[39m\u001b[39m'\u001b[39m, \u001b[39m'\u001b[39m\u001b[39m.pdb.gz\u001b[39m\u001b[39m'\u001b[39m, \u001b[39m'\u001b[39m\u001b[39m.pdbx\u001b[39m\u001b[39m'\u001b[39m, \u001b[39m'\u001b[39m\u001b[39m.cif\u001b[39m\u001b[39m'\u001b[39m, \u001b[39m'\u001b[39m\u001b[39m.h5\u001b[39m\u001b[39m'\u001b[39m,\u001b[39m'\u001b[39m\u001b[39m.lh5\u001b[39m\u001b[39m'\u001b[39m]):\n\u001b[0;32m--> 174\u001b[0m     _traj \u001b[39m=\u001b[39m load_frame(top, \u001b[39m0\u001b[39;49m, \u001b[39m*\u001b[39;49m\u001b[39m*\u001b[39;49mkwargs)\n\u001b[1;32m    175\u001b[0m     topology \u001b[39m=\u001b[39m _traj\u001b[39m.\u001b[39mtopology\n\u001b[1;32m    176\u001b[0m \u001b[39melif\u001b[39;00m \u001b[39misinstance\u001b[39m(top, (string_types, os\u001b[39m.\u001b[39mPathLike)) \u001b[39mand\u001b[39;00m (ext \u001b[39min\u001b[39;00m [\u001b[39m'\u001b[39m\u001b[39m.prmtop\u001b[39m\u001b[39m'\u001b[39m, \u001b[39m'\u001b[39m\u001b[39m.parm7\u001b[39m\u001b[39m'\u001b[39m, \u001b[39m'\u001b[39m\u001b[39m.prm7\u001b[39m\u001b[39m'\u001b[39m]):\n",
      "File \u001b[0;32m~/miniconda3/lib/python3.11/site-packages/mdtraj/core/trajectory.py:310\u001b[0m, in \u001b[0;36mload_frame\u001b[0;34m(filename, index, top, atom_indices, **kwargs)\u001b[0m\n\u001b[1;32m    307\u001b[0m     kwargs[\u001b[39m'\u001b[39m\u001b[39mtop\u001b[39m\u001b[39m'\u001b[39m] \u001b[39m=\u001b[39m top\n\u001b[1;32m    309\u001b[0m \u001b[39mif\u001b[39;00m loader\u001b[39m.\u001b[39m\u001b[39m__name__\u001b[39m \u001b[39mnot\u001b[39;00m \u001b[39min\u001b[39;00m [\u001b[39m'\u001b[39m\u001b[39mload_dtr\u001b[39m\u001b[39m'\u001b[39m]:\n\u001b[0;32m--> 310\u001b[0m     _assert_files_exist(filename)\n\u001b[1;32m    311\u001b[0m \u001b[39melse\u001b[39;00m:\n\u001b[1;32m    312\u001b[0m     _assert_files_or_dirs_exist(filename)\n",
      "File \u001b[0;32m~/miniconda3/lib/python3.11/site-packages/mdtraj/core/trajectory.py:100\u001b[0m, in \u001b[0;36m_assert_files_exist\u001b[0;34m(filenames)\u001b[0m\n\u001b[1;32m     98\u001b[0m \u001b[39mfor\u001b[39;00m fn \u001b[39min\u001b[39;00m filenames:\n\u001b[1;32m     99\u001b[0m     \u001b[39mif\u001b[39;00m \u001b[39mnot\u001b[39;00m (os\u001b[39m.\u001b[39mpath\u001b[39m.\u001b[39mexists(fn) \u001b[39mand\u001b[39;00m os\u001b[39m.\u001b[39mpath\u001b[39m.\u001b[39misfile(fn)):\n\u001b[0;32m--> 100\u001b[0m         \u001b[39mraise\u001b[39;00m \u001b[39mIOError\u001b[39;00m(\u001b[39m'\u001b[39m\u001b[39mNo such file: \u001b[39m\u001b[39m%s\u001b[39;00m\u001b[39m'\u001b[39m \u001b[39m%\u001b[39m fn)\n",
      "\u001b[0;31mOSError\u001b[0m: No such file: DFT_results/extract_data.sh/extract_data.sh_DFT_topology.pdb"
     ]
    }
   ],
   "source": [
    "# get data\n",
    "\n",
    "dft_path = 'DFT_results'\n",
    "molecules = os.listdir(dft_path)\n",
    "\n",
    "print(molecules)\n",
    "\n",
    "for mol in molecules:\n",
    "    if mol != 'extract_data.sh':\n",
    "        print(get_trajectory(mol))\n",
    "\n",
    "    "
   ]
  }
 ],
 "metadata": {
  "kernelspec": {
   "display_name": "base",
   "language": "python",
   "name": "python3"
  },
  "language_info": {
   "codemirror_mode": {
    "name": "ipython",
    "version": 3
   },
   "file_extension": ".py",
   "mimetype": "text/x-python",
   "name": "python",
   "nbconvert_exporter": "python",
   "pygments_lexer": "ipython3",
   "version": "3.11.8"
  },
  "orig_nbformat": 4,
  "vscode": {
   "interpreter": {
    "hash": "1baf341e581d093554e3944d4acbf33c6c623ac7743e95cb52ad56c88ccbbe60"
   }
  }
 },
 "nbformat": 4,
 "nbformat_minor": 2
}
