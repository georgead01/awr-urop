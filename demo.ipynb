{
 "cells": [
  {
   "cell_type": "code",
   "execution_count": 1,
   "metadata": {},
   "outputs": [
    {
     "ename": "",
     "evalue": "",
     "output_type": "error",
     "traceback": [
      "\u001b[1;31mThe Kernel crashed while executing code in the the current cell or a previous cell. Please review the code in the cell(s) to identify a possible cause of the failure. Click <a href='https://aka.ms/vscodeJupyterKernelCrash'>here</a> for more info. View Jupyter <a href='command:jupyter.viewOutput'>log</a> for further details."
     ]
    },
    {
     "ename": "",
     "evalue": "",
     "output_type": "error",
     "traceback": [
      "\u001b[1;31mCanceled future for execute_request message before replies were done"
     ]
    }
   ],
   "source": [
    "import ml4chem\n",
    "import mdtraj\n",
    "import os\n",
    "from data_proc import get_molecules, get_trajectory\n",
    "from ml4chem.data.handler import Data"
   ]
  },
  {
   "cell_type": "code",
   "execution_count": 1,
   "metadata": {},
   "outputs": [
    {
     "ename": "NameError",
     "evalue": "name 'os' is not defined",
     "output_type": "error",
     "traceback": [
      "\u001b[0;31m---------------------------------------------------------------------------\u001b[0m",
      "\u001b[0;31mNameError\u001b[0m                                 Traceback (most recent call last)",
      "Cell \u001b[0;32mIn[1], line 4\u001b[0m\n\u001b[1;32m      1\u001b[0m \u001b[39m# get data\u001b[39;00m\n\u001b[1;32m      3\u001b[0m dft_path \u001b[39m=\u001b[39m \u001b[39m'\u001b[39m\u001b[39mDFT_results\u001b[39m\u001b[39m'\u001b[39m\n\u001b[0;32m----> 4\u001b[0m molecules \u001b[39m=\u001b[39m os\u001b[39m.\u001b[39mlistdir(dft_path)\n\u001b[1;32m      5\u001b[0m train_data \u001b[39m=\u001b[39m []\n\u001b[1;32m      7\u001b[0m \u001b[39mfor\u001b[39;00m mol \u001b[39min\u001b[39;00m molecules:\n",
      "\u001b[0;31mNameError\u001b[0m: name 'os' is not defined"
     ]
    }
   ],
   "source": [
    "# get data\n",
    "\n",
    "dft_path = 'DFT_results'\n",
    "molecules = os.listdir(dft_path)\n",
    "train_data = []\n",
    "\n",
    "for mol in molecules:\n",
    "    if mol != 'extract_data.sh':\n",
    "        train_data.append(get_trajectory(mol))\n",
    "\n",
    "print(train_data)"
   ]
  }
 ],
 "metadata": {
  "kernelspec": {
   "display_name": "base",
   "language": "python",
   "name": "python3"
  },
  "language_info": {
   "codemirror_mode": {
    "name": "ipython",
    "version": 3
   },
   "file_extension": ".py",
   "mimetype": "text/x-python",
   "name": "python",
   "nbconvert_exporter": "python",
   "pygments_lexer": "ipython3",
   "version": "3.11.8"
  },
  "orig_nbformat": 4,
  "vscode": {
   "interpreter": {
    "hash": "1baf341e581d093554e3944d4acbf33c6c623ac7743e95cb52ad56c88ccbbe60"
   }
  }
 },
 "nbformat": 4,
 "nbformat_minor": 2
}
